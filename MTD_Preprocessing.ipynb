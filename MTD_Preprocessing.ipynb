{
 "cells": [
  {
   "cell_type": "code",
   "execution_count": 1,
   "metadata": {},
   "outputs": [],
   "source": [
    "import numpy as np\n",
    "import pandas as pd\n",
    "\n",
    "import matplotlib.pyplot as plt\n",
    "import seaborn as sns\n",
    "import string\n",
    "import re\n",
    "from sklearn.feature_extraction.text import TfidfVectorizer\n",
    "from sklearn.decomposition import PCA\n",
    "from sklearn.linear_model import LogisticRegression\n",
    "from sklearn.model_selection import train_test_split\n",
    "\n",
    "from sklearn.metrics import confusion_matrix\n",
    "from sklearn.metrics import classification_report\n",
    "from sklearn.manifold import TSNE\n",
    "\n",
    "from nltk.tokenize import word_tokenize\n",
    "from nltk.tokenize import sent_tokenize\n",
    "from nltk.stem import WordNetLemmatizer \n",
    "\n",
    "#from imblearn.over_sampling import SMOTE\n",
    "from keras.models import load_model\n",
    "\n",
    "from keras.callbacks import ModelCheckpoint, EarlyStopping\n",
    "from sklearn.metrics import f1_score, confusion_matrix\n",
    "from random import seed\n",
    "from random import choice\n",
    "from sklearn.metrics import precision_score"
   ]
  },
  {
   "cell_type": "code",
   "execution_count": 2,
   "metadata": {},
   "outputs": [],
   "source": [
    "clinical_text_df = pd.read_csv(\"mtsamples.csv\")"
   ]
  },
  {
   "cell_type": "code",
   "execution_count": 6,
   "metadata": {
    "scrolled": true
   },
   "outputs": [
    {
     "data": {
      "text/html": [
       "<div>\n",
       "<style scoped>\n",
       "    .dataframe tbody tr th:only-of-type {\n",
       "        vertical-align: middle;\n",
       "    }\n",
       "\n",
       "    .dataframe tbody tr th {\n",
       "        vertical-align: top;\n",
       "    }\n",
       "\n",
       "    .dataframe thead th {\n",
       "        text-align: right;\n",
       "    }\n",
       "</style>\n",
       "<table border=\"1\" class=\"dataframe\">\n",
       "  <thead>\n",
       "    <tr style=\"text-align: right;\">\n",
       "      <th></th>\n",
       "      <th>description</th>\n",
       "      <th>medical_specialty</th>\n",
       "      <th>sample_name</th>\n",
       "      <th>transcription</th>\n",
       "      <th>keywords</th>\n",
       "    </tr>\n",
       "  </thead>\n",
       "  <tbody>\n",
       "    <tr>\n",
       "      <th>0</th>\n",
       "      <td>A 23-year-old white female presents with comp...</td>\n",
       "      <td>Allergy / Immunology</td>\n",
       "      <td>Allergic Rhinitis</td>\n",
       "      <td>SUBJECTIVE:,  This 23-year-old white female pr...</td>\n",
       "      <td>allergy / immunology, allergic rhinitis, aller...</td>\n",
       "    </tr>\n",
       "    <tr>\n",
       "      <th>1</th>\n",
       "      <td>Consult for laparoscopic gastric bypass.</td>\n",
       "      <td>Bariatrics</td>\n",
       "      <td>Laparoscopic Gastric Bypass Consult - 2</td>\n",
       "      <td>PAST MEDICAL HISTORY:, He has difficulty climb...</td>\n",
       "      <td>bariatrics, laparoscopic gastric bypass, weigh...</td>\n",
       "    </tr>\n",
       "    <tr>\n",
       "      <th>2</th>\n",
       "      <td>Consult for laparoscopic gastric bypass.</td>\n",
       "      <td>Bariatrics</td>\n",
       "      <td>Laparoscopic Gastric Bypass Consult - 1</td>\n",
       "      <td>HISTORY OF PRESENT ILLNESS: , I have seen ABC ...</td>\n",
       "      <td>bariatrics, laparoscopic gastric bypass, heart...</td>\n",
       "    </tr>\n",
       "    <tr>\n",
       "      <th>3</th>\n",
       "      <td>2-D M-Mode. Doppler.</td>\n",
       "      <td>Cardiovascular / Pulmonary</td>\n",
       "      <td>2-D Echocardiogram - 1</td>\n",
       "      <td>2-D M-MODE: , ,1.  Left atrial enlargement wit...</td>\n",
       "      <td>cardiovascular / pulmonary, 2-d m-mode, dopple...</td>\n",
       "    </tr>\n",
       "    <tr>\n",
       "      <th>4</th>\n",
       "      <td>2-D Echocardiogram</td>\n",
       "      <td>Cardiovascular / Pulmonary</td>\n",
       "      <td>2-D Echocardiogram - 2</td>\n",
       "      <td>1.  The left ventricular cavity size and wall ...</td>\n",
       "      <td>cardiovascular / pulmonary, 2-d, doppler, echo...</td>\n",
       "    </tr>\n",
       "  </tbody>\n",
       "</table>\n",
       "</div>"
      ],
      "text/plain": [
       "                                         description  \\\n",
       "0   A 23-year-old white female presents with comp...   \n",
       "1           Consult for laparoscopic gastric bypass.   \n",
       "2           Consult for laparoscopic gastric bypass.   \n",
       "3                             2-D M-Mode. Doppler.     \n",
       "4                                 2-D Echocardiogram   \n",
       "\n",
       "             medical_specialty                                sample_name  \\\n",
       "0         Allergy / Immunology                         Allergic Rhinitis    \n",
       "1                   Bariatrics   Laparoscopic Gastric Bypass Consult - 2    \n",
       "2                   Bariatrics   Laparoscopic Gastric Bypass Consult - 1    \n",
       "3   Cardiovascular / Pulmonary                    2-D Echocardiogram - 1    \n",
       "4   Cardiovascular / Pulmonary                    2-D Echocardiogram - 2    \n",
       "\n",
       "                                       transcription  \\\n",
       "0  SUBJECTIVE:,  This 23-year-old white female pr...   \n",
       "1  PAST MEDICAL HISTORY:, He has difficulty climb...   \n",
       "2  HISTORY OF PRESENT ILLNESS: , I have seen ABC ...   \n",
       "3  2-D M-MODE: , ,1.  Left atrial enlargement wit...   \n",
       "4  1.  The left ventricular cavity size and wall ...   \n",
       "\n",
       "                                            keywords  \n",
       "0  allergy / immunology, allergic rhinitis, aller...  \n",
       "1  bariatrics, laparoscopic gastric bypass, weigh...  \n",
       "2  bariatrics, laparoscopic gastric bypass, heart...  \n",
       "3  cardiovascular / pulmonary, 2-d m-mode, dopple...  \n",
       "4  cardiovascular / pulmonary, 2-d, doppler, echo...  "
      ]
     },
     "execution_count": 6,
     "metadata": {},
     "output_type": "execute_result"
    }
   ],
   "source": [
    "clinical_text_df.head()"
   ]
  },
  {
   "cell_type": "code",
   "execution_count": 5,
   "metadata": {},
   "outputs": [],
   "source": [
    "if \"Unnamed: 0\" in clinical_text_df.columns:\n",
    "    clinical_text_df.drop(\"Unnamed: 0\", axis=1, inplace=True) "
   ]
  },
  {
   "cell_type": "code",
   "execution_count": 7,
   "metadata": {
    "scrolled": true
   },
   "outputs": [
    {
     "data": {
      "text/plain": [
       "(4999, 5)"
      ]
     },
     "execution_count": 7,
     "metadata": {},
     "output_type": "execute_result"
    }
   ],
   "source": [
    "clinical_text_df.shape"
   ]
  },
  {
   "cell_type": "code",
   "execution_count": 8,
   "metadata": {
    "scrolled": false
   },
   "outputs": [
    {
     "name": "stdout",
     "output_type": "stream",
     "text": [
      "Index(['description', 'medical_specialty', 'sample_name', 'transcription',\n",
      "       'keywords'],\n",
      "      dtype='object')\n"
     ]
    },
    {
     "data": {
      "text/html": [
       "<div>\n",
       "<style scoped>\n",
       "    .dataframe tbody tr th:only-of-type {\n",
       "        vertical-align: middle;\n",
       "    }\n",
       "\n",
       "    .dataframe tbody tr th {\n",
       "        vertical-align: top;\n",
       "    }\n",
       "\n",
       "    .dataframe thead th {\n",
       "        text-align: right;\n",
       "    }\n",
       "</style>\n",
       "<table border=\"1\" class=\"dataframe\">\n",
       "  <thead>\n",
       "    <tr style=\"text-align: right;\">\n",
       "      <th></th>\n",
       "      <th>description</th>\n",
       "      <th>medical_specialty</th>\n",
       "      <th>sample_name</th>\n",
       "      <th>transcription</th>\n",
       "      <th>keywords</th>\n",
       "    </tr>\n",
       "  </thead>\n",
       "  <tbody>\n",
       "    <tr>\n",
       "      <th>0</th>\n",
       "      <td>A 23-year-old white female presents with comp...</td>\n",
       "      <td>Allergy / Immunology</td>\n",
       "      <td>Allergic Rhinitis</td>\n",
       "      <td>SUBJECTIVE:,  This 23-year-old white female pr...</td>\n",
       "      <td>allergy / immunology, allergic rhinitis, aller...</td>\n",
       "    </tr>\n",
       "    <tr>\n",
       "      <th>1</th>\n",
       "      <td>Consult for laparoscopic gastric bypass.</td>\n",
       "      <td>Bariatrics</td>\n",
       "      <td>Laparoscopic Gastric Bypass Consult - 2</td>\n",
       "      <td>PAST MEDICAL HISTORY:, He has difficulty climb...</td>\n",
       "      <td>bariatrics, laparoscopic gastric bypass, weigh...</td>\n",
       "    </tr>\n",
       "    <tr>\n",
       "      <th>2</th>\n",
       "      <td>Consult for laparoscopic gastric bypass.</td>\n",
       "      <td>Bariatrics</td>\n",
       "      <td>Laparoscopic Gastric Bypass Consult - 1</td>\n",
       "      <td>HISTORY OF PRESENT ILLNESS: , I have seen ABC ...</td>\n",
       "      <td>bariatrics, laparoscopic gastric bypass, heart...</td>\n",
       "    </tr>\n",
       "    <tr>\n",
       "      <th>3</th>\n",
       "      <td>2-D M-Mode. Doppler.</td>\n",
       "      <td>Cardiovascular / Pulmonary</td>\n",
       "      <td>2-D Echocardiogram - 1</td>\n",
       "      <td>2-D M-MODE: , ,1.  Left atrial enlargement wit...</td>\n",
       "      <td>cardiovascular / pulmonary, 2-d m-mode, dopple...</td>\n",
       "    </tr>\n",
       "    <tr>\n",
       "      <th>4</th>\n",
       "      <td>2-D Echocardiogram</td>\n",
       "      <td>Cardiovascular / Pulmonary</td>\n",
       "      <td>2-D Echocardiogram - 2</td>\n",
       "      <td>1.  The left ventricular cavity size and wall ...</td>\n",
       "      <td>cardiovascular / pulmonary, 2-d, doppler, echo...</td>\n",
       "    </tr>\n",
       "  </tbody>\n",
       "</table>\n",
       "</div>"
      ],
      "text/plain": [
       "                                         description  \\\n",
       "0   A 23-year-old white female presents with comp...   \n",
       "1           Consult for laparoscopic gastric bypass.   \n",
       "2           Consult for laparoscopic gastric bypass.   \n",
       "3                             2-D M-Mode. Doppler.     \n",
       "4                                 2-D Echocardiogram   \n",
       "\n",
       "             medical_specialty                                sample_name  \\\n",
       "0         Allergy / Immunology                         Allergic Rhinitis    \n",
       "1                   Bariatrics   Laparoscopic Gastric Bypass Consult - 2    \n",
       "2                   Bariatrics   Laparoscopic Gastric Bypass Consult - 1    \n",
       "3   Cardiovascular / Pulmonary                    2-D Echocardiogram - 1    \n",
       "4   Cardiovascular / Pulmonary                    2-D Echocardiogram - 2    \n",
       "\n",
       "                                       transcription  \\\n",
       "0  SUBJECTIVE:,  This 23-year-old white female pr...   \n",
       "1  PAST MEDICAL HISTORY:, He has difficulty climb...   \n",
       "2  HISTORY OF PRESENT ILLNESS: , I have seen ABC ...   \n",
       "3  2-D M-MODE: , ,1.  Left atrial enlargement wit...   \n",
       "4  1.  The left ventricular cavity size and wall ...   \n",
       "\n",
       "                                            keywords  \n",
       "0  allergy / immunology, allergic rhinitis, aller...  \n",
       "1  bariatrics, laparoscopic gastric bypass, weigh...  \n",
       "2  bariatrics, laparoscopic gastric bypass, heart...  \n",
       "3  cardiovascular / pulmonary, 2-d m-mode, dopple...  \n",
       "4  cardiovascular / pulmonary, 2-d, doppler, echo...  "
      ]
     },
     "execution_count": 8,
     "metadata": {},
     "output_type": "execute_result"
    }
   ],
   "source": [
    "print(clinical_text_df.columns)\n",
    "clinical_text_df.head(5)"
   ]
  },
  {
   "cell_type": "code",
   "execution_count": 11,
   "metadata": {},
   "outputs": [
    {
     "data": {
      "text/plain": [
       "40"
      ]
     },
     "execution_count": 11,
     "metadata": {},
     "output_type": "execute_result"
    }
   ],
   "source": [
    "# get the uniqye number of medical speciality\n",
    "len(clinical_text_df[\"medical_specialty\"].unique())"
   ]
  },
  {
   "cell_type": "code",
   "execution_count": 12,
   "metadata": {},
   "outputs": [
    {
     "data": {
      "text/plain": [
       " Surgery                          1103\n",
       " Consult - History and Phy.        516\n",
       " Cardiovascular / Pulmonary        372\n",
       " Orthopedic                        355\n",
       " Radiology                         273\n",
       " General Medicine                  259\n",
       " Gastroenterology                  230\n",
       " Neurology                         223\n",
       " SOAP / Chart / Progress Notes     166\n",
       " Obstetrics / Gynecology           160\n",
       " Urology                           158\n",
       " Discharge Summary                 108\n",
       " ENT - Otolaryngology               98\n",
       " Neurosurgery                       94\n",
       " Hematology - Oncology              90\n",
       " Ophthalmology                      83\n",
       " Nephrology                         81\n",
       " Emergency Room Reports             75\n",
       " Pediatrics - Neonatal              70\n",
       " Pain Management                    62\n",
       " Psychiatry / Psychology            53\n",
       " Office Notes                       51\n",
       " Podiatry                           47\n",
       " Dermatology                        29\n",
       " Cosmetic / Plastic Surgery         27\n",
       " Dentistry                          27\n",
       " Letters                            23\n",
       " Physical Medicine - Rehab          21\n",
       " Sleep Medicine                     20\n",
       " Endocrinology                      19\n",
       " Bariatrics                         18\n",
       " IME-QME-Work Comp etc.             16\n",
       " Chiropractic                       14\n",
       " Rheumatology                       10\n",
       " Diets and Nutritions               10\n",
       " Speech - Language                   9\n",
       " Autopsy                             8\n",
       " Lab Medicine - Pathology            8\n",
       " Allergy / Immunology                7\n",
       " Hospice - Palliative Care           6\n",
       "Name: medical_specialty, dtype: int64"
      ]
     },
     "execution_count": 12,
     "metadata": {},
     "output_type": "execute_result"
    }
   ],
   "source": [
    "# Check the number of samples in each unique medical_speciality\n",
    "clinical_text_df[\"medical_specialty\"].value_counts()"
   ]
  },
  {
   "cell_type": "code",
   "execution_count": 8,
   "metadata": {
    "scrolled": false
   },
   "outputs": [
    {
     "name": "stdout",
     "output_type": "stream",
     "text": [
      "===========Original Categories =======================\n",
      "Class:1  Allergy / Immunology : 7\n",
      "Class:2  Autopsy : 8\n",
      "Class:3  Bariatrics : 18\n",
      "Class:4  Cardiovascular / Pulmonary : 372\n",
      "Class:5  Chiropractic : 14\n",
      "Class:6  Consult - History and Phy. : 516\n",
      "Class:7  Cosmetic / Plastic Surgery : 27\n",
      "Class:8  Dentistry : 27\n",
      "Class:9  Dermatology : 29\n",
      "Class:10  Diets and Nutritions : 10\n",
      "Class:11  Discharge Summary : 108\n",
      "Class:12  ENT - Otolaryngology : 98\n",
      "Class:13  Emergency Room Reports : 75\n",
      "Class:14  Endocrinology : 19\n",
      "Class:15  Gastroenterology : 230\n",
      "Class:16  General Medicine : 259\n",
      "Class:17  Hematology - Oncology : 90\n",
      "Class:18  Hospice - Palliative Care : 6\n",
      "Class:19  IME-QME-Work Comp etc. : 16\n",
      "Class:20  Lab Medicine - Pathology : 8\n",
      "Class:21  Letters : 23\n",
      "Class:22  Nephrology : 81\n",
      "Class:23  Neurology : 223\n",
      "Class:24  Neurosurgery : 94\n",
      "Class:25  Obstetrics / Gynecology : 160\n",
      "Class:26  Office Notes : 51\n",
      "Class:27  Ophthalmology : 83\n",
      "Class:28  Orthopedic : 355\n",
      "Class:29  Pain Management : 62\n",
      "Class:30  Pediatrics - Neonatal : 70\n",
      "Class:31  Physical Medicine - Rehab : 21\n",
      "Class:32  Podiatry : 47\n",
      "Class:33  Psychiatry / Psychology : 53\n",
      "Class:34  Radiology : 273\n",
      "Class:35  Rheumatology : 10\n",
      "Class:36  SOAP / Chart / Progress Notes : 166\n",
      "Class:37  Sleep Medicine : 20\n",
      "Class:38  Speech - Language : 9\n",
      "Class:39  Surgery : 1103\n",
      "Class:40  Urology : 158\n",
      "==================================\n"
     ]
    }
   ],
   "source": [
    "## Create medical _speciality classes\n",
    "data_categories  = clinical_text_df.groupby(clinical_text_df['medical_specialty'])\n",
    "i = 1\n",
    "print('===========Original Categories =======================')\n",
    "for catName,dataCategory in data_categories:\n",
    "    print('Class:'+str(i)+' '+catName + ' : '+ str(len(dataCategory)) )\n",
    "    i = i+1\n",
    "print('==================================')"
   ]
  },
  {
   "cell_type": "code",
   "execution_count": 9,
   "metadata": {
    "scrolled": true
   },
   "outputs": [
    {
     "data": {
      "text/html": [
       "<div>\n",
       "<style scoped>\n",
       "    .dataframe tbody tr th:only-of-type {\n",
       "        vertical-align: middle;\n",
       "    }\n",
       "\n",
       "    .dataframe tbody tr th {\n",
       "        vertical-align: top;\n",
       "    }\n",
       "\n",
       "    .dataframe thead th {\n",
       "        text-align: right;\n",
       "    }\n",
       "</style>\n",
       "<table border=\"1\" class=\"dataframe\">\n",
       "  <thead>\n",
       "    <tr style=\"text-align: right;\">\n",
       "      <th></th>\n",
       "      <th>Unnamed: 0</th>\n",
       "      <th>description</th>\n",
       "      <th>medical_specialty</th>\n",
       "      <th>sample_name</th>\n",
       "      <th>transcription</th>\n",
       "      <th>keywords</th>\n",
       "    </tr>\n",
       "  </thead>\n",
       "  <tbody>\n",
       "    <tr>\n",
       "      <th>0</th>\n",
       "      <td>0</td>\n",
       "      <td>A 23-year-old white female presents with comp...</td>\n",
       "      <td>Allergy / Immunology</td>\n",
       "      <td>Allergic Rhinitis</td>\n",
       "      <td>SUBJECTIVE:,  This 23-year-old white female pr...</td>\n",
       "      <td>allergy / immunology, allergic rhinitis, aller...</td>\n",
       "    </tr>\n",
       "    <tr>\n",
       "      <th>1</th>\n",
       "      <td>1</td>\n",
       "      <td>Consult for laparoscopic gastric bypass.</td>\n",
       "      <td>Bariatrics</td>\n",
       "      <td>Laparoscopic Gastric Bypass Consult - 2</td>\n",
       "      <td>PAST MEDICAL HISTORY:, He has difficulty climb...</td>\n",
       "      <td>bariatrics, laparoscopic gastric bypass, weigh...</td>\n",
       "    </tr>\n",
       "    <tr>\n",
       "      <th>2</th>\n",
       "      <td>2</td>\n",
       "      <td>Consult for laparoscopic gastric bypass.</td>\n",
       "      <td>Bariatrics</td>\n",
       "      <td>Laparoscopic Gastric Bypass Consult - 1</td>\n",
       "      <td>HISTORY OF PRESENT ILLNESS: , I have seen ABC ...</td>\n",
       "      <td>bariatrics, laparoscopic gastric bypass, heart...</td>\n",
       "    </tr>\n",
       "    <tr>\n",
       "      <th>3</th>\n",
       "      <td>3</td>\n",
       "      <td>2-D M-Mode. Doppler.</td>\n",
       "      <td>Cardiovascular / Pulmonary</td>\n",
       "      <td>2-D Echocardiogram - 1</td>\n",
       "      <td>2-D M-MODE: , ,1.  Left atrial enlargement wit...</td>\n",
       "      <td>cardiovascular / pulmonary, 2-d m-mode, dopple...</td>\n",
       "    </tr>\n",
       "    <tr>\n",
       "      <th>4</th>\n",
       "      <td>4</td>\n",
       "      <td>2-D Echocardiogram</td>\n",
       "      <td>Cardiovascular / Pulmonary</td>\n",
       "      <td>2-D Echocardiogram - 2</td>\n",
       "      <td>1.  The left ventricular cavity size and wall ...</td>\n",
       "      <td>cardiovascular / pulmonary, 2-d, doppler, echo...</td>\n",
       "    </tr>\n",
       "    <tr>\n",
       "      <th>...</th>\n",
       "      <td>...</td>\n",
       "      <td>...</td>\n",
       "      <td>...</td>\n",
       "      <td>...</td>\n",
       "      <td>...</td>\n",
       "      <td>...</td>\n",
       "    </tr>\n",
       "    <tr>\n",
       "      <th>4994</th>\n",
       "      <td>4994</td>\n",
       "      <td>Patient having severe sinusitis about two to ...</td>\n",
       "      <td>Allergy / Immunology</td>\n",
       "      <td>Chronic Sinusitis</td>\n",
       "      <td>HISTORY:,  I had the pleasure of meeting and e...</td>\n",
       "      <td>NaN</td>\n",
       "    </tr>\n",
       "    <tr>\n",
       "      <th>4995</th>\n",
       "      <td>4995</td>\n",
       "      <td>This is a 14-month-old baby boy Caucasian who...</td>\n",
       "      <td>Allergy / Immunology</td>\n",
       "      <td>Kawasaki Disease - Discharge Summary</td>\n",
       "      <td>ADMITTING DIAGNOSIS: , Kawasaki disease.,DISCH...</td>\n",
       "      <td>allergy / immunology, mucous membranes, conjun...</td>\n",
       "    </tr>\n",
       "    <tr>\n",
       "      <th>4996</th>\n",
       "      <td>4996</td>\n",
       "      <td>A female for a complete physical and follow u...</td>\n",
       "      <td>Allergy / Immunology</td>\n",
       "      <td>Followup on Asthma</td>\n",
       "      <td>SUBJECTIVE: , This is a 42-year-old white fema...</td>\n",
       "      <td>NaN</td>\n",
       "    </tr>\n",
       "    <tr>\n",
       "      <th>4997</th>\n",
       "      <td>4997</td>\n",
       "      <td>Mother states he has been wheezing and coughing.</td>\n",
       "      <td>Allergy / Immunology</td>\n",
       "      <td>Asthma in a 5-year-old</td>\n",
       "      <td>CHIEF COMPLAINT: , This 5-year-old male presen...</td>\n",
       "      <td>NaN</td>\n",
       "    </tr>\n",
       "    <tr>\n",
       "      <th>4998</th>\n",
       "      <td>4998</td>\n",
       "      <td>Acute allergic reaction, etiology uncertain, ...</td>\n",
       "      <td>Allergy / Immunology</td>\n",
       "      <td>Allergy Evaluation Consult</td>\n",
       "      <td>HISTORY: , A 34-year-old male presents today s...</td>\n",
       "      <td>NaN</td>\n",
       "    </tr>\n",
       "  </tbody>\n",
       "</table>\n",
       "<p>4966 rows × 6 columns</p>\n",
       "</div>"
      ],
      "text/plain": [
       "      Unnamed: 0                                        description  \\\n",
       "0              0   A 23-year-old white female presents with comp...   \n",
       "1              1           Consult for laparoscopic gastric bypass.   \n",
       "2              2           Consult for laparoscopic gastric bypass.   \n",
       "3              3                             2-D M-Mode. Doppler.     \n",
       "4              4                                 2-D Echocardiogram   \n",
       "...          ...                                                ...   \n",
       "4994        4994   Patient having severe sinusitis about two to ...   \n",
       "4995        4995   This is a 14-month-old baby boy Caucasian who...   \n",
       "4996        4996   A female for a complete physical and follow u...   \n",
       "4997        4997   Mother states he has been wheezing and coughing.   \n",
       "4998        4998   Acute allergic reaction, etiology uncertain, ...   \n",
       "\n",
       "                medical_specialty                                sample_name  \\\n",
       "0            Allergy / Immunology                         Allergic Rhinitis    \n",
       "1                      Bariatrics   Laparoscopic Gastric Bypass Consult - 2    \n",
       "2                      Bariatrics   Laparoscopic Gastric Bypass Consult - 1    \n",
       "3      Cardiovascular / Pulmonary                    2-D Echocardiogram - 1    \n",
       "4      Cardiovascular / Pulmonary                    2-D Echocardiogram - 2    \n",
       "...                           ...                                        ...   \n",
       "4994         Allergy / Immunology                         Chronic Sinusitis    \n",
       "4995         Allergy / Immunology      Kawasaki Disease - Discharge Summary    \n",
       "4996         Allergy / Immunology                        Followup on Asthma    \n",
       "4997         Allergy / Immunology                    Asthma in a 5-year-old    \n",
       "4998         Allergy / Immunology                Allergy Evaluation Consult    \n",
       "\n",
       "                                          transcription  \\\n",
       "0     SUBJECTIVE:,  This 23-year-old white female pr...   \n",
       "1     PAST MEDICAL HISTORY:, He has difficulty climb...   \n",
       "2     HISTORY OF PRESENT ILLNESS: , I have seen ABC ...   \n",
       "3     2-D M-MODE: , ,1.  Left atrial enlargement wit...   \n",
       "4     1.  The left ventricular cavity size and wall ...   \n",
       "...                                                 ...   \n",
       "4994  HISTORY:,  I had the pleasure of meeting and e...   \n",
       "4995  ADMITTING DIAGNOSIS: , Kawasaki disease.,DISCH...   \n",
       "4996  SUBJECTIVE: , This is a 42-year-old white fema...   \n",
       "4997  CHIEF COMPLAINT: , This 5-year-old male presen...   \n",
       "4998  HISTORY: , A 34-year-old male presents today s...   \n",
       "\n",
       "                                               keywords  \n",
       "0     allergy / immunology, allergic rhinitis, aller...  \n",
       "1     bariatrics, laparoscopic gastric bypass, weigh...  \n",
       "2     bariatrics, laparoscopic gastric bypass, heart...  \n",
       "3     cardiovascular / pulmonary, 2-d m-mode, dopple...  \n",
       "4     cardiovascular / pulmonary, 2-d, doppler, echo...  \n",
       "...                                                 ...  \n",
       "4994                                                NaN  \n",
       "4995  allergy / immunology, mucous membranes, conjun...  \n",
       "4996                                                NaN  \n",
       "4997                                                NaN  \n",
       "4998                                                NaN  \n",
       "\n",
       "[4966 rows x 6 columns]"
      ]
     },
     "execution_count": 9,
     "metadata": {},
     "output_type": "execute_result"
    }
   ],
   "source": [
    "clinical_text_df = clinical_text_df[clinical_text_df['transcription'].notna()]\n",
    "clinical_text_df"
   ]
  },
  {
   "cell_type": "code",
   "execution_count": 10,
   "metadata": {},
   "outputs": [],
   "source": [
    "def get_sentence_word_count(text_list):\n",
    "    sent_count = 0\n",
    "    word_count = 0\n",
    "    vocab = {}\n",
    "    for text in text_list:\n",
    "        sentences=sent_tokenize(str(text).lower())\n",
    "        sent_count = sent_count + len(sentences)\n",
    "        for sentence in sentences:\n",
    "            words=word_tokenize(sentence)\n",
    "            \n",
    "            for word in words:\n",
    "                if(word in vocab.keys()):\n",
    "                    vocab[word] = vocab[word] +1\n",
    "                else:\n",
    "                    vocab[word] =1 \n",
    "    word_count = len(vocab.keys())\n",
    "    return sent_count,word_count"
   ]
  },
  {
   "cell_type": "code",
   "execution_count": 11,
   "metadata": {
    "scrolled": true
   },
   "outputs": [
    {
     "name": "stdout",
     "output_type": "stream",
     "text": [
      "Number of sentences in transcriptions column: 140214\n",
      "Number of unique words in transcriptions column: 35805\n"
     ]
    }
   ],
   "source": [
    "#clinical_text_df = clinical_text_df[clinical_text_df['transcription'].notna()]\n",
    "sent_count,word_count= get_sentence_word_count(clinical_text_df['transcription'].tolist())\n",
    "print(\"Number of sentences in transcriptions column: \"+ str(sent_count))\n",
    "print(\"Number of unique words in transcriptions column: \"+str(word_count))"
   ]
  },
  {
   "cell_type": "code",
   "execution_count": 12,
   "metadata": {
    "scrolled": true
   },
   "outputs": [
    {
     "name": "stdout",
     "output_type": "stream",
     "text": [
      "============Reduced Categories ======================\n",
      "Cat:1  Cardiovascular / Pulmonary : 372\n",
      "Cat:2  Consult - History and Phy. : 516\n",
      "Cat:3  Cosmetic / Plastic Surgery : 27\n",
      "Cat:4  Dentistry : 27\n",
      "Cat:5  Dermatology : 29\n",
      "Cat:6  Discharge Summary : 108\n",
      "Cat:7  ENT - Otolaryngology : 98\n",
      "Cat:8  Emergency Room Reports : 75\n",
      "Cat:9  Gastroenterology : 230\n",
      "Cat:10  General Medicine : 259\n",
      "Cat:11  Hematology - Oncology : 90\n",
      "Cat:12  Letters : 23\n",
      "Cat:13  Nephrology : 81\n",
      "Cat:14  Neurology : 223\n",
      "Cat:15  Neurosurgery : 94\n",
      "Cat:16  Obstetrics / Gynecology : 160\n",
      "Cat:17  Office Notes : 51\n",
      "Cat:18  Ophthalmology : 83\n",
      "Cat:19  Orthopedic : 355\n",
      "Cat:20  Pain Management : 62\n",
      "Cat:21  Pediatrics - Neonatal : 70\n",
      "Cat:22  Physical Medicine - Rehab : 21\n",
      "Cat:23  Podiatry : 47\n",
      "Cat:24  Psychiatry / Psychology : 53\n",
      "Cat:25  Radiology : 273\n",
      "Cat:26  SOAP / Chart / Progress Notes : 166\n",
      "Cat:27  Surgery : 1103\n",
      "Cat:28  Urology : 158\n",
      "============ Reduced Categories ======================\n"
     ]
    }
   ],
   "source": [
    "filtered_data_categories = data_categories.filter(lambda x:x.shape[0] > 20)\n",
    "final_data_categories = filtered_data_categories.groupby(filtered_data_categories['medical_specialty'])\n",
    "i=1\n",
    "print('============Reduced Categories ======================')\n",
    "for catName,dataCategory in final_data_categories:\n",
    "    print('Cat:'+str(i)+' '+catName + ' : '+ str(len(dataCategory)) )\n",
    "    i = i+1\n",
    "\n",
    "print('============ Reduced Categories ======================')\n"
   ]
  },
  {
   "cell_type": "code",
   "execution_count": 13,
   "metadata": {
    "scrolled": true
   },
   "outputs": [
    {
     "data": {
      "text/plain": [
       "(4821, 2)"
      ]
     },
     "execution_count": 13,
     "metadata": {},
     "output_type": "execute_result"
    }
   ],
   "source": [
    "data = filtered_data_categories[['transcription', 'medical_specialty']]\n",
    "data = data.drop(data[data['transcription'].isna()].index)\n",
    "data.shape"
   ]
  },
  {
   "cell_type": "code",
   "execution_count": 14,
   "metadata": {
    "scrolled": false
   },
   "outputs": [
    {
     "data": {
      "text/html": [
       "<div>\n",
       "<style scoped>\n",
       "    .dataframe tbody tr th:only-of-type {\n",
       "        vertical-align: middle;\n",
       "    }\n",
       "\n",
       "    .dataframe tbody tr th {\n",
       "        vertical-align: top;\n",
       "    }\n",
       "\n",
       "    .dataframe thead th {\n",
       "        text-align: right;\n",
       "    }\n",
       "</style>\n",
       "<table border=\"1\" class=\"dataframe\">\n",
       "  <thead>\n",
       "    <tr style=\"text-align: right;\">\n",
       "      <th></th>\n",
       "      <th>transcription</th>\n",
       "      <th>medical_specialty</th>\n",
       "    </tr>\n",
       "  </thead>\n",
       "  <tbody>\n",
       "    <tr>\n",
       "      <th>3</th>\n",
       "      <td>2-D M-MODE: , ,1.  Left atrial enlargement wit...</td>\n",
       "      <td>Cardiovascular / Pulmonary</td>\n",
       "    </tr>\n",
       "    <tr>\n",
       "      <th>4</th>\n",
       "      <td>1.  The left ventricular cavity size and wall ...</td>\n",
       "      <td>Cardiovascular / Pulmonary</td>\n",
       "    </tr>\n",
       "    <tr>\n",
       "      <th>7</th>\n",
       "      <td>2-D ECHOCARDIOGRAM,Multiple views of the heart...</td>\n",
       "      <td>Cardiovascular / Pulmonary</td>\n",
       "    </tr>\n",
       "    <tr>\n",
       "      <th>9</th>\n",
       "      <td>DESCRIPTION:,1.  Normal cardiac chambers size....</td>\n",
       "      <td>Cardiovascular / Pulmonary</td>\n",
       "    </tr>\n",
       "    <tr>\n",
       "      <th>11</th>\n",
       "      <td>2-D STUDY,1. Mild aortic stenosis, widely calc...</td>\n",
       "      <td>Cardiovascular / Pulmonary</td>\n",
       "    </tr>\n",
       "    <tr>\n",
       "      <th>...</th>\n",
       "      <td>...</td>\n",
       "      <td>...</td>\n",
       "    </tr>\n",
       "    <tr>\n",
       "      <th>4972</th>\n",
       "      <td>INDICATION: , Chest pain.,TYPE OF TEST: , Aden...</td>\n",
       "      <td>Cardiovascular / Pulmonary</td>\n",
       "    </tr>\n",
       "    <tr>\n",
       "      <th>4973</th>\n",
       "      <td>CHIEF COMPLAINT: , Chest pain.,HISTORY OF PRES...</td>\n",
       "      <td>Cardiovascular / Pulmonary</td>\n",
       "    </tr>\n",
       "    <tr>\n",
       "      <th>4974</th>\n",
       "      <td>HISTORY OF PRESENT ILLNESS: , The patient is a...</td>\n",
       "      <td>Cardiovascular / Pulmonary</td>\n",
       "    </tr>\n",
       "    <tr>\n",
       "      <th>4975</th>\n",
       "      <td>HISTORY OF PRESENT ILLNESS: , Mr. ABC is a 60-...</td>\n",
       "      <td>Cardiovascular / Pulmonary</td>\n",
       "    </tr>\n",
       "    <tr>\n",
       "      <th>4976</th>\n",
       "      <td>REASON FOR CONSULTATION:  ,Abnormal echocardio...</td>\n",
       "      <td>Cardiovascular / Pulmonary</td>\n",
       "    </tr>\n",
       "  </tbody>\n",
       "</table>\n",
       "<p>4821 rows × 2 columns</p>\n",
       "</div>"
      ],
      "text/plain": [
       "                                          transcription  \\\n",
       "3     2-D M-MODE: , ,1.  Left atrial enlargement wit...   \n",
       "4     1.  The left ventricular cavity size and wall ...   \n",
       "7     2-D ECHOCARDIOGRAM,Multiple views of the heart...   \n",
       "9     DESCRIPTION:,1.  Normal cardiac chambers size....   \n",
       "11    2-D STUDY,1. Mild aortic stenosis, widely calc...   \n",
       "...                                                 ...   \n",
       "4972  INDICATION: , Chest pain.,TYPE OF TEST: , Aden...   \n",
       "4973  CHIEF COMPLAINT: , Chest pain.,HISTORY OF PRES...   \n",
       "4974  HISTORY OF PRESENT ILLNESS: , The patient is a...   \n",
       "4975  HISTORY OF PRESENT ILLNESS: , Mr. ABC is a 60-...   \n",
       "4976  REASON FOR CONSULTATION:  ,Abnormal echocardio...   \n",
       "\n",
       "                medical_specialty  \n",
       "3      Cardiovascular / Pulmonary  \n",
       "4      Cardiovascular / Pulmonary  \n",
       "7      Cardiovascular / Pulmonary  \n",
       "9      Cardiovascular / Pulmonary  \n",
       "11     Cardiovascular / Pulmonary  \n",
       "...                           ...  \n",
       "4972   Cardiovascular / Pulmonary  \n",
       "4973   Cardiovascular / Pulmonary  \n",
       "4974   Cardiovascular / Pulmonary  \n",
       "4975   Cardiovascular / Pulmonary  \n",
       "4976   Cardiovascular / Pulmonary  \n",
       "\n",
       "[4821 rows x 2 columns]"
      ]
     },
     "execution_count": 14,
     "metadata": {},
     "output_type": "execute_result"
    }
   ],
   "source": [
    "data"
   ]
  },
  {
   "cell_type": "code",
   "execution_count": 15,
   "metadata": {},
   "outputs": [
    {
     "data": {
      "text/html": [
       "<div>\n",
       "<style scoped>\n",
       "    .dataframe tbody tr th:only-of-type {\n",
       "        vertical-align: middle;\n",
       "    }\n",
       "\n",
       "    .dataframe tbody tr th {\n",
       "        vertical-align: top;\n",
       "    }\n",
       "\n",
       "    .dataframe thead th {\n",
       "        text-align: right;\n",
       "    }\n",
       "</style>\n",
       "<table border=\"1\" class=\"dataframe\">\n",
       "  <thead>\n",
       "    <tr style=\"text-align: right;\">\n",
       "      <th></th>\n",
       "      <th>transcription</th>\n",
       "      <th>medical_specialty</th>\n",
       "    </tr>\n",
       "  </thead>\n",
       "  <tbody>\n",
       "    <tr>\n",
       "      <th>3</th>\n",
       "      <td>2-D M-MODE: , ,1.  Left atrial enlargement wit...</td>\n",
       "      <td>Cardiovascular / Pulmonary</td>\n",
       "    </tr>\n",
       "    <tr>\n",
       "      <th>4</th>\n",
       "      <td>1.  The left ventricular cavity size and wall ...</td>\n",
       "      <td>Cardiovascular / Pulmonary</td>\n",
       "    </tr>\n",
       "    <tr>\n",
       "      <th>7</th>\n",
       "      <td>2-D ECHOCARDIOGRAM,Multiple views of the heart...</td>\n",
       "      <td>Cardiovascular / Pulmonary</td>\n",
       "    </tr>\n",
       "    <tr>\n",
       "      <th>9</th>\n",
       "      <td>DESCRIPTION:,1.  Normal cardiac chambers size....</td>\n",
       "      <td>Cardiovascular / Pulmonary</td>\n",
       "    </tr>\n",
       "    <tr>\n",
       "      <th>11</th>\n",
       "      <td>2-D STUDY,1. Mild aortic stenosis, widely calc...</td>\n",
       "      <td>Cardiovascular / Pulmonary</td>\n",
       "    </tr>\n",
       "    <tr>\n",
       "      <th>...</th>\n",
       "      <td>...</td>\n",
       "      <td>...</td>\n",
       "    </tr>\n",
       "    <tr>\n",
       "      <th>4972</th>\n",
       "      <td>INDICATION: , Chest pain.,TYPE OF TEST: , Aden...</td>\n",
       "      <td>Cardiovascular / Pulmonary</td>\n",
       "    </tr>\n",
       "    <tr>\n",
       "      <th>4973</th>\n",
       "      <td>CHIEF COMPLAINT: , Chest pain.,HISTORY OF PRES...</td>\n",
       "      <td>Cardiovascular / Pulmonary</td>\n",
       "    </tr>\n",
       "    <tr>\n",
       "      <th>4974</th>\n",
       "      <td>HISTORY OF PRESENT ILLNESS: , The patient is a...</td>\n",
       "      <td>Cardiovascular / Pulmonary</td>\n",
       "    </tr>\n",
       "    <tr>\n",
       "      <th>4975</th>\n",
       "      <td>HISTORY OF PRESENT ILLNESS: , Mr. ABC is a 60-...</td>\n",
       "      <td>Cardiovascular / Pulmonary</td>\n",
       "    </tr>\n",
       "    <tr>\n",
       "      <th>4976</th>\n",
       "      <td>REASON FOR CONSULTATION:  ,Abnormal echocardio...</td>\n",
       "      <td>Cardiovascular / Pulmonary</td>\n",
       "    </tr>\n",
       "  </tbody>\n",
       "</table>\n",
       "<p>4821 rows × 2 columns</p>\n",
       "</div>"
      ],
      "text/plain": [
       "                                          transcription  \\\n",
       "3     2-D M-MODE: , ,1.  Left atrial enlargement wit...   \n",
       "4     1.  The left ventricular cavity size and wall ...   \n",
       "7     2-D ECHOCARDIOGRAM,Multiple views of the heart...   \n",
       "9     DESCRIPTION:,1.  Normal cardiac chambers size....   \n",
       "11    2-D STUDY,1. Mild aortic stenosis, widely calc...   \n",
       "...                                                 ...   \n",
       "4972  INDICATION: , Chest pain.,TYPE OF TEST: , Aden...   \n",
       "4973  CHIEF COMPLAINT: , Chest pain.,HISTORY OF PRES...   \n",
       "4974  HISTORY OF PRESENT ILLNESS: , The patient is a...   \n",
       "4975  HISTORY OF PRESENT ILLNESS: , Mr. ABC is a 60-...   \n",
       "4976  REASON FOR CONSULTATION:  ,Abnormal echocardio...   \n",
       "\n",
       "                medical_specialty  \n",
       "3      Cardiovascular / Pulmonary  \n",
       "4      Cardiovascular / Pulmonary  \n",
       "7      Cardiovascular / Pulmonary  \n",
       "9      Cardiovascular / Pulmonary  \n",
       "11     Cardiovascular / Pulmonary  \n",
       "...                           ...  \n",
       "4972   Cardiovascular / Pulmonary  \n",
       "4973   Cardiovascular / Pulmonary  \n",
       "4974   Cardiovascular / Pulmonary  \n",
       "4975   Cardiovascular / Pulmonary  \n",
       "4976   Cardiovascular / Pulmonary  \n",
       "\n",
       "[4821 rows x 2 columns]"
      ]
     },
     "execution_count": 15,
     "metadata": {},
     "output_type": "execute_result"
    }
   ],
   "source": [
    "data"
   ]
  },
  {
   "cell_type": "code",
   "execution_count": 16,
   "metadata": {},
   "outputs": [],
   "source": [
    "transcription = data['transcription'].tolist()"
   ]
  },
  {
   "cell_type": "code",
   "execution_count": 17,
   "metadata": {},
   "outputs": [],
   "source": [
    "labels = data['medical_specialty'].tolist()"
   ]
  },
  {
   "cell_type": "code",
   "execution_count": 18,
   "metadata": {
    "scrolled": true
   },
   "outputs": [
    {
     "data": {
      "text/plain": [
       "4821"
      ]
     },
     "execution_count": 18,
     "metadata": {},
     "output_type": "execute_result"
    }
   ],
   "source": [
    "len(labels)"
   ]
  },
  {
   "cell_type": "code",
   "execution_count": 19,
   "metadata": {},
   "outputs": [
    {
     "data": {
      "text/plain": [
       "4821"
      ]
     },
     "execution_count": 19,
     "metadata": {},
     "output_type": "execute_result"
    }
   ],
   "source": [
    "len(transcription)"
   ]
  },
  {
   "cell_type": "code",
   "execution_count": 20,
   "metadata": {
    "scrolled": true
   },
   "outputs": [],
   "source": [
    "sting = transcription[214]"
   ]
  },
  {
   "cell_type": "code",
   "execution_count": 21,
   "metadata": {},
   "outputs": [
    {
     "data": {
      "text/plain": [
       "' Surgery'"
      ]
     },
     "execution_count": 21,
     "metadata": {},
     "output_type": "execute_result"
    }
   ],
   "source": [
    "labels[214]"
   ]
  },
  {
   "cell_type": "code",
   "execution_count": 22,
   "metadata": {},
   "outputs": [
    {
     "name": "stdout",
     "output_type": "stream",
     "text": [
      "no\n"
     ]
    }
   ],
   "source": [
    "if 'Radiology' in sting.split():\n",
    "    print('yes')\n",
    "else:\n",
    "    print(\"no\")"
   ]
  },
  {
   "cell_type": "code",
   "execution_count": 24,
   "metadata": {},
   "outputs": [],
   "source": [
    "trainx = data['transcription']\n",
    "trainy = data['medical_specialty']"
   ]
  },
  {
   "cell_type": "code",
   "execution_count": 25,
   "metadata": {},
   "outputs": [
    {
     "data": {
      "text/plain": [
       "((4821,), (4821,))"
      ]
     },
     "execution_count": 25,
     "metadata": {},
     "output_type": "execute_result"
    }
   ],
   "source": [
    "trainy.shape, trainx.shape"
   ]
  },
  {
   "cell_type": "code",
   "execution_count": 26,
   "metadata": {},
   "outputs": [
    {
     "name": "stdout",
     "output_type": "stream",
     "text": [
      "============Reduced Categories======================\n",
      "Cat:1 Cardiovascular / Pulmonary : 372\n",
      "Cat:2 Consult - History and Phy. : 516\n",
      "Cat:3 Cosmetic / Plastic Surgery : 27\n",
      "Cat:4 Dentistry : 27\n",
      "Cat:5 Dermatology : 29\n",
      "Cat:6 Discharge Summary : 108\n",
      "Cat:7 ENT - Otolaryngology : 98\n",
      "Cat:8 Emergency Room Reports : 75\n",
      "Cat:9 Gastroenterology : 230\n",
      "Cat:10 General Medicine : 259\n",
      "Cat:11 Hematology - Oncology : 90\n",
      "Cat:12 Letters : 23\n",
      "Cat:13 Nephrology : 81\n",
      "Cat:14 Neurology : 223\n",
      "Cat:15 Neurosurgery : 94\n",
      "Cat:16 Obstetrics / Gynecology : 160\n",
      "Cat:17 Office Notes : 51\n",
      "Cat:18 Ophthalmology : 83\n",
      "Cat:19 Orthopedic : 355\n",
      "Cat:20 Pain Management : 62\n",
      "Cat:21 Pediatrics - Neonatal : 70\n",
      "Cat:22 Physical Medicine - Rehab : 21\n",
      "Cat:23 Podiatry : 47\n",
      "Cat:24 Psychiatry / Psychology : 53\n",
      "Cat:25 Radiology : 273\n",
      "Cat:26 SOAP / Chart / Progress Notes : 166\n",
      "Cat:27 Urology : 158\n",
      "============Reduced Categories======================\n"
     ]
    },
    {
     "data": {
      "text/plain": [
       "(2498, 2)"
      ]
     },
     "execution_count": 26,
     "metadata": {},
     "output_type": "execute_result"
    }
   ],
   "source": [
    "filtered_data_categories['medical_specialty'] =filtered_data_categories['medical_specialty'].apply(lambda x:str.strip(x))\n",
    "mask = filtered_data_categories['medical_specialty'] == 'Surgery'\n",
    "filtered_data_categories = filtered_data_categories[~mask]\n",
    "final_data_categories = filtered_data_categories.groupby(filtered_data_categories['medical_specialty'])\n",
    "mask = filtered_data_categories['medical_specialty'] == 'SOAP / Chart / Progress Notes'\n",
    "filtered_data_categories = filtered_data_categories[~mask]\n",
    "mask = filtered_data_categories['medical_specialty'] == 'Office Notes'\n",
    "filtered_data_categories = filtered_data_categories[~mask]\n",
    "mask = filtered_data_categories['medical_specialty'] == 'Consult - History and Phy.'\n",
    "filtered_data_categories = filtered_data_categories[~mask]\n",
    "mask = filtered_data_categories['medical_specialty'] == 'Emergency Room Reports'\n",
    "filtered_data_categories = filtered_data_categories[~mask]\n",
    "mask = filtered_data_categories['medical_specialty'] == 'Discharge Summary'\n",
    "filtered_data_categories = filtered_data_categories[~mask]\n",
    "\n",
    "'''\n",
    "mask = filtered_data_categories['medical_specialty'] == 'Pediatrics - Neonatal'\n",
    "filtered_data_categories = filtered_data_categories[~mask]\n",
    "'''\n",
    "mask = filtered_data_categories['medical_specialty'] == 'Pain Management'\n",
    "filtered_data_categories = filtered_data_categories[~mask]\n",
    "mask = filtered_data_categories['medical_specialty'] == 'General Medicine'\n",
    "filtered_data_categories = filtered_data_categories[~mask]\n",
    "\n",
    "\n",
    "mask = filtered_data_categories['medical_specialty'] == 'Neurosurgery'\n",
    "filtered_data_categories.loc[mask, 'medical_specialty'] = 'Neurology'\n",
    "mask = filtered_data_categories['medical_specialty'] == 'Nephrology'\n",
    "filtered_data_categories.loc[mask, 'medical_specialty'] = 'Urology'\n",
    "\n",
    "i=1\n",
    "print('============Reduced Categories======================')\n",
    "for catName,dataCategory in final_data_categories:\n",
    "    print('Cat:'+str(i)+' '+catName + ' : '+ str(len(dataCategory)) )\n",
    "    i = i+1\n",
    "\n",
    "print('============Reduced Categories======================')\n",
    "\n",
    "\n",
    "data = filtered_data_categories[['transcription', 'medical_specialty']]\n",
    "data = data.drop(data[data['transcription'].isna()].index)\n",
    "data.shape"
   ]
  },
  {
   "cell_type": "markdown",
   "metadata": {},
   "source": [
    "## Use Spacy"
   ]
  },
  {
   "cell_type": "code",
   "execution_count": 27,
   "metadata": {
    "scrolled": true
   },
   "outputs": [],
   "source": [
    "import spacy\n",
    "import en_ner_bionlp13cg_md"
   ]
  },
  {
   "cell_type": "code",
   "execution_count": 28,
   "metadata": {},
   "outputs": [],
   "source": [
    "\n",
    "#pip install https://s3-us-west-2.amazonaws.com/ai2-s2-scispacy/releases/v0.5.0/en_ner_bionlp13cg_md-0.5.0.tar.gz\n"
   ]
  },
  {
   "cell_type": "code",
   "execution_count": 29,
   "metadata": {
    "scrolled": true
   },
   "outputs": [],
   "source": [
    "nlp = en_ner_bionlp13cg_md.load()"
   ]
  },
  {
   "cell_type": "code",
   "execution_count": 30,
   "metadata": {},
   "outputs": [],
   "source": [
    "def process_Text( text):\n",
    "    wordlist=[]\n",
    "    doc = nlp(text)\n",
    "    for ent in doc.ents:\n",
    "        wordlist.append(ent.text)\n",
    "    return ' '.join(wordlist)   "
   ]
  },
  {
   "cell_type": "code",
   "execution_count": 31,
   "metadata": {},
   "outputs": [],
   "source": [
    "def clean_text(text ): \n",
    "    text = text.translate(str.maketrans('', '', string.punctuation))\n",
    "    text1 = ''.join([w for w in text if not w.isdigit()]) \n",
    "    REPLACE_BY_SPACE_RE = re.compile('[/(){}\\[\\]\\|@,;]')\n",
    "    #BAD_SYMBOLS_RE = re.compile('[^0-9a-z #+_]')\n",
    "    \n",
    "    text2 = text1.lower()\n",
    "    text2 = REPLACE_BY_SPACE_RE.sub('', text2) # replace REPLACE_BY_SPACE_RE symbols by space in text\n",
    "    #text2 = BAD_SYMBOLS_RE.sub('', text2)\n",
    "    return text2\n",
    "\n",
    "def clearup(document):\n",
    "    document = document.translate(string.punctuation)\n",
    "    numbers = re.search('[0-9]+', document) # finds the numbers in the string\n",
    "    document = re.sub('\\(\\d+.\\d+\\)|\\d-\\d|\\d', '', document) \\\n",
    "        .replace('.', '').replace(',', '').replace(',', '').replace(':', '').replace('~', '') \\\n",
    "        .replace('!', '').replace('@', '').replace('#', '').replace('$', '').replace('/', '') \\\n",
    "        .replace('%', '').replace('(', '').replace(')', '').replace('?', '') \\\n",
    "        .replace('—', '').replace(';', '').replace('&quot', '').replace('&lt', '') \\\n",
    "        .replace('^', '').replace('\"', '').replace('{', '').replace('}', '').replace('\\\\', '').replace('+', '') \\\n",
    "        .replace('&gt', '').replace('&apos', '').replace('*', '').strip().lower().split()\n",
    "    # return re.sub('[l]+', ' ', str(document)).strip()\n",
    "    return document\n",
    "\n",
    "def lemmatize_text(text):\n",
    "    wordlist=[]\n",
    "    lemmatizer = WordNetLemmatizer() \n",
    "    sentences=sent_tokenize(text)\n",
    "    \n",
    "    intial_sentences= sentences[0:1]\n",
    "    final_sentences = sentences[len(sentences)-2: len(sentences)-1]\n",
    "    for sentence in intial_sentences:\n",
    "        words=word_tokenize(sentence)\n",
    "        \n",
    "        for word in words:\n",
    "            wordlist.append(lemmatizer.lemmatize(word))\n",
    "    for sentence in final_sentences:\n",
    "        words=word_tokenize(sentence)\n",
    "        for word in words:\n",
    "            wordlist.append(lemmatizer.lemmatize(word))       \n",
    "    return ' '.join(wordlist) "
   ]
  },
  {
   "cell_type": "code",
   "execution_count": 32,
   "metadata": {
    "scrolled": false
   },
   "outputs": [],
   "source": [
    "data['transcription'] = data['transcription'].apply(process_Text)"
   ]
  },
  {
   "cell_type": "code",
   "execution_count": 33,
   "metadata": {
    "scrolled": false
   },
   "outputs": [
    {
     "data": {
      "text/plain": [
       "3       Left atrial left ventricular pericardial aorti...\n",
       "4       left ventricular wall wall left atrium right a...\n",
       "7       heart vessels intracardiac vessel Cardiac peri...\n",
       "9       Normal cardiac pericardial intracardiac mitral...\n",
       "11      systolic tricuspid mitral aortic heart tricusp...\n",
       "                              ...                        \n",
       "4972    Adenosine nuclear patient heart blood heart bl...\n",
       "4973    patient patient coronary artery patient shortn...\n",
       "4974    patient sublingual nitroglycerin nitroglycerin...\n",
       "4975    gentleman stress sublingual nitroglycerin pati...\n",
       "4976    heart valvular insufficiency.,HISTORY patient ...\n",
       "Name: transcription, Length: 2498, dtype: object"
      ]
     },
     "execution_count": 33,
     "metadata": {},
     "output_type": "execute_result"
    }
   ],
   "source": [
    "data['transcription']"
   ]
  },
  {
   "cell_type": "code",
   "execution_count": 34,
   "metadata": {},
   "outputs": [],
   "source": [
    "trainx_index = list(data['transcription'].index)\n"
   ]
  },
  {
   "cell_type": "code",
   "execution_count": 35,
   "metadata": {},
   "outputs": [
    {
     "data": {
      "text/plain": [
       "(2498,)"
      ]
     },
     "execution_count": 35,
     "metadata": {},
     "output_type": "execute_result"
    }
   ],
   "source": [
    "data['transcription'].shape"
   ]
  },
  {
   "cell_type": "code",
   "execution_count": 36,
   "metadata": {},
   "outputs": [],
   "source": [
    "data['transcription'] = data['transcription'].apply(lemmatize_text)"
   ]
  },
  {
   "cell_type": "code",
   "execution_count": 37,
   "metadata": {},
   "outputs": [
    {
     "data": {
      "text/plain": [
       "3       Left atrial left ventricular pericardial aorti...\n",
       "4       left ventricular wall wall left atrium right a...\n",
       "7       heart vessel intracardiac vessel Cardiac peric...\n",
       "9       Normal cardiac pericardial intracardiac mitral...\n",
       "11      systolic tricuspid mitral aortic heart tricusp...\n",
       "                              ...                        \n",
       "4972    Adenosine nuclear patient heart blood heart bl...\n",
       "4973    patient patient coronary artery patient shortn...\n",
       "4974    patient sublingual nitroglycerin nitroglycerin...\n",
       "4975    gentleman stress sublingual nitroglycerin pati...\n",
       "4976    heart valvular insufficiency. , HISTORY patien...\n",
       "Name: transcription, Length: 2498, dtype: object"
      ]
     },
     "execution_count": 37,
     "metadata": {},
     "output_type": "execute_result"
    }
   ],
   "source": [
    "data['transcription']"
   ]
  },
  {
   "cell_type": "code",
   "execution_count": 38,
   "metadata": {},
   "outputs": [],
   "source": [
    "data['transcription'] = data['transcription'].apply(clearup)"
   ]
  },
  {
   "cell_type": "code",
   "execution_count": 39,
   "metadata": {
    "scrolled": true
   },
   "outputs": [
    {
     "data": {
      "text/plain": [
       "3       [left, atrial, left, ventricular, pericardial,...\n",
       "4       [left, ventricular, wall, wall, left, atrium, ...\n",
       "7       [heart, vessel, intracardiac, vessel, cardiac,...\n",
       "9       [normal, cardiac, pericardial, intracardiac, m...\n",
       "11      [systolic, tricuspid, mitral, aortic, heart, t...\n",
       "                              ...                        \n",
       "4972    [adenosine, nuclear, patient, heart, blood, he...\n",
       "4973    [patient, patient, coronary, artery, patient, ...\n",
       "4974    [patient, sublingual, nitroglycerin, nitroglyc...\n",
       "4975    [gentleman, stress, sublingual, nitroglycerin,...\n",
       "4976    [heart, valvular, insufficiency, history, pati...\n",
       "Name: transcription, Length: 2498, dtype: object"
      ]
     },
     "execution_count": 39,
     "metadata": {},
     "output_type": "execute_result"
    }
   ],
   "source": [
    "data['transcription']"
   ]
  },
  {
   "cell_type": "code",
   "execution_count": 40,
   "metadata": {},
   "outputs": [],
   "source": [
    "#data['transcription'] = data['transcription'].apply(clean_text)\n",
    "#data['transcription']"
   ]
  },
  {
   "cell_type": "code",
   "execution_count": 41,
   "metadata": {},
   "outputs": [],
   "source": [
    "doc2 = data['transcription'].tolist()"
   ]
  },
  {
   "cell_type": "code",
   "execution_count": 43,
   "metadata": {
    "scrolled": false
   },
   "outputs": [
    {
     "data": {
      "text/plain": [
       "2498"
      ]
     },
     "execution_count": 43,
     "metadata": {},
     "output_type": "execute_result"
    }
   ],
   "source": [
    "len(doc2)"
   ]
  },
  {
   "cell_type": "code",
   "execution_count": 44,
   "metadata": {
    "scrolled": false
   },
   "outputs": [
    {
     "data": {
      "text/plain": [
       "['systolic', 'tricuspid', 'mitral', 'aortic', 'heart', 'tricuspid', 'heart']"
      ]
     },
     "execution_count": 44,
     "metadata": {},
     "output_type": "execute_result"
    }
   ],
   "source": [
    "doc2[4]"
   ]
  },
  {
   "cell_type": "code",
   "execution_count": 45,
   "metadata": {},
   "outputs": [],
   "source": [
    "import pickle"
   ]
  },
  {
   "cell_type": "code",
   "execution_count": 47,
   "metadata": {},
   "outputs": [],
   "source": [
    "from keras.preprocessing.text import Tokenizer, one_hot\n",
    "from keras.preprocessing.sequence import pad_sequences\n"
   ]
  },
  {
   "cell_type": "code",
   "execution_count": 41,
   "metadata": {},
   "outputs": [],
   "source": [
    "def size(alist):\n",
    "    return len(alist)\n",
    "def prep_data_CNN(documents):\n",
    "    \"\"\"\n",
    "    Prepare the padded docs and vocab_size for CNN training\n",
    "    \"\"\"\n",
    "    \n",
    "    t = Tokenizer()\n",
    "    docs = list(filter(None, documents))\n",
    "    print(\"Size of the documents in prep_data {}\".format(len(documents)))\n",
    "    t.fit_on_texts(documents)\n",
    "\n",
    "    vocab_size = len(t.word_counts)\n",
    "    print(\"Vocab size {}\".format(vocab_size))\n",
    "    encoded_docs = t.texts_to_sequences(documents)\n",
    "    print(\"Size of the encoded documents {}\".format(len(encoded_docs)))\n",
    "    e_lens = []\n",
    "    for i in range(len(encoded_docs)):\n",
    "        e_lens.append(len(encoded_docs[i]))\n",
    "    lens_edocs = list(map(size, encoded_docs))\n",
    "    max_length = np.average(lens_edocs)\n",
    "    sequence_length = 300  # Can use this instead of the above average max_length value\n",
    "    max_length = sequence_length\n",
    "    padded_docs = pad_sequences(\n",
    "        encoded_docs, maxlen=int(max_length), padding='post')\n",
    "    print(\"Length of a padded row {}\".format(padded_docs.shape))\n",
    "    print(\"max_length {} and min_length {} and average {}\".format(\n",
    "        max_length, min(lens_edocs), np.average(lens_edocs)))\n",
    "    return padded_docs, max_length, vocab_size, t.word_index"
   ]
  },
  {
   "cell_type": "code",
   "execution_count": 42,
   "metadata": {
    "scrolled": true
   },
   "outputs": [
    {
     "name": "stdout",
     "output_type": "stream",
     "text": [
      "Vocab size 6024\n",
      "Size of the encoded documents 2498\n",
      "Length of a padded row (2498, 300)\n",
      "max_length 300 and min_length 0 and average 46.3306645316253\n"
     ]
    }
   ],
   "source": [
    "padded_docs2, max_length2, vocab_size2, word_index2 = prep_data_CNN(doc2)"
   ]
  },
  {
   "cell_type": "code",
   "execution_count": 43,
   "metadata": {
    "scrolled": true
   },
   "outputs": [
    {
     "data": {
      "text/plain": [
       "array([[   9,  130,    9, ...,    0,    0,    0],\n",
       "       [   9,   74,   36, ...,    0,    0,    0],\n",
       "       [  10,   26,  828, ...,    0,    0,    0],\n",
       "       ...,\n",
       "       [   1, 1618,  505, ...,    0,    0,    0],\n",
       "       [ 244,  276, 1618, ...,    0,    0,    0],\n",
       "       [  10,  665, 2249, ...,    0,    0,    0]])"
      ]
     },
     "execution_count": 43,
     "metadata": {},
     "output_type": "execute_result"
    }
   ],
   "source": [
    "padded_docs2"
   ]
  }
 ],
 "metadata": {
  "kernelspec": {
   "display_name": "Python 3 (ipykernel)",
   "language": "python",
   "name": "python3"
  },
  "language_info": {
   "codemirror_mode": {
    "name": "ipython",
    "version": 3
   },
   "file_extension": ".py",
   "mimetype": "text/x-python",
   "name": "python",
   "nbconvert_exporter": "python",
   "pygments_lexer": "ipython3",
   "version": "3.10.10"
  }
 },
 "nbformat": 4,
 "nbformat_minor": 4
}
